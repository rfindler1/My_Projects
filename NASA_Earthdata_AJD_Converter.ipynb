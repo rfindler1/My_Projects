{
 "cells": [
  {
   "cell_type": "markdown",
   "metadata": {},
   "source": [
    "# Converter for NASA EarthData  #\n",
    "#### *For the conversion of Astronomers Julian Day dates to Gregorian Calendar Day and Times* ##\n",
    "\n",
    "AJD in the format 2459001.966667\n",
    "\n",
    "Equating to GD 2020/06/01 11:12:00\n",
    "\n"
   ]
  },
  {
   "cell_type": "code",
   "execution_count": null,
   "metadata": {},
   "outputs": [],
   "source": [
    "import datetime\n",
    "import pandas as pd\n",
    "import openpyxl"
   ]
  },
  {
   "cell_type": "code",
   "execution_count": null,
   "metadata": {},
   "outputs": [],
   "source": [
    "def AJD_converter(AJD):\n",
    "    \n",
    "    AJD = \"{0:.6f}\".format(AJD)    # Formats any Astronomers Julian Day value input into the function to have 6 points after the decimal \n",
    "                                   # e.g. 2459001.966667 runs through the function the same way that 2459022.900000 would\n",
    "                                   # Without this line a value such as 2459022.935000 would be treated as 2459022.935 and the calculation of the total_seconds would return an error\n",
    "    \n",
    "    AJD_split = str(AJD).split('.')    # Treats AJD as a string and splits AJD at the decimal point\n",
    "                                       # So the numbers to the left of the decimal can be used for the calculation of the date (yyy/mm/dd)\n",
    "                                       # And the numbers to the right of the decimal can be used for the calculation of the time (hh:mm:ss)\n",
    "    ############\n",
    "    ### time ###\n",
    "    ############\n",
    "\n",
    "    split_time_nums = [int(i) for i in str(AJD_split[1])]       # Splits time element of number (RHS of decimal) into individual numbers i.e. 917082 into 9 1 7 0 8 2 \n",
    "    \n",
    "    total_seconds = round((split_time_nums[0] *8640) + (split_time_nums[1] *864) + (split_time_nums[2] *86.4) + (split_time_nums[3] *8.64) + (split_time_nums[4] *0.864) + (split_time_nums[5] *0.0864))\n",
    "                                                                \n",
    "                                                                # 'total_seconds' is the sum of seconds calculated through the conversion of the decimal part of the Astronomers Julian day to seconds \n",
    "\n",
    "                                                                # The calculation uses the following conversions: \n",
    "                                                                # 0.1 = 2.4 hours or 144 minutes or 8640 seconds\n",
    "                                                                # 0.01 = 0.24 hours or 14.4 minutes or 864 seconds\n",
    "                                                                # 0.001 = 0.024 hours or 1.44 minutes or 86.4 seconds\n",
    "                                                                # 0.0001 = 0.0024 hours or 0.144 minutes or 8.64 seconds\n",
    "                                                                # 0.00001 = 0.00024 hours or 0.0144 minutes or 0.864 seconds\n",
    "                                                                # 0.000001 = 0.000024 hours or 0.00144 minutes or 0.0864 seconds\n",
    "\n",
    "    if int(AJD_split[1]) >= 500000:\n",
    "        a = datetime.timedelta(seconds=(total_seconds-43200))    # -43200 to take 23:02 (pm) to 11:02 (am)\n",
    "    elif int(AJD_split[1]) < 500000:\n",
    "        a = datetime.timedelta(seconds=(total_seconds+43200))    # +43200 to take 11:02 (am) to 23:02 (pm)\n",
    "                                   \n",
    "                                                                # Astronomers Julian Day Runs from midday to midday, whereas a Gregorian day runs from 00:00 to 23:59 \n",
    "                                                                # As such:\n",
    "                                                                    # AJD: .000000 --> GD: 12:00:00\n",
    "                                                                    # AJD: .500000 --> GD: 00:00:00\n",
    "                                                                    # AJD: .999993 --> GD: 11:59:59\n",
    "                                                               \n",
    "                                                                # 0.500000 (AJD) is equaivalent to 43200 seconds in Gregorian Date time\n",
    "\n",
    "                                                                # Adding or subtracting 43200 seconds (12 hours) allows python to count from 00:00 rather than 12:00 midday\n",
    "                                                                # As such, where 'AJD_split[1]' greater than (.)500000, 43200 seconds needs to be subtracted so the count of seconds starts from midnight\n",
    "                                                                # Conversely, where 'AJD_split[1]' less than (.)500000, 43200 seconds needs to be added so the count of seconds starts from midday\n",
    "\n",
    "\n",
    "   \n",
    "\n",
    "    #a = datetime.timedelta(seconds=(total_seconds))        # datetime.timedelta(seconds = number of seconds) converts a number of seconds to hh:mm:ss\n",
    "    \n",
    "    ############\n",
    "    ### date ### \n",
    "    ############\n",
    "        \n",
    "    base_date = datetime.date(2010,1,1)                        # 1st January 2010 is used as a base date with a known Astronomers Julian Day Date\n",
    "    base_date_jd = 2455198                                     # This base AJD date is used with the 'datetime.timedelta(diff)' command to calculate the new AJD date\n",
    "    \n",
    "    new_date_jd = int(AJD_split[0])                            # 'new_date_jd' is the Julian Day date portion from AJD_split to converted to a new GD date\n",
    "\n",
    "    \n",
    "    diff = new_date_jd - base_date_jd                          # Calculates the numerical difference between the new AJD date and the base AJD date\n",
    "\n",
    "    if int(AJD_split[1]) >= 500000:                                     # Where total_seconds >= 500000 (prior to adding or subtracting 43200) the next Gregorian day has been reached \n",
    "        new_date = (datetime.timedelta(diff+1)) + base_date             # Where this is the case, '1' is added to the date to account for the number of seconds in the day surpassing 12 hours (43200s)\n",
    "    elif int(AJD_split[1]) < 500000:                                    # 'new_date' is calculated using 'datetime.timedelta(diff)' which outputs a date --> 'diff' number of days after the 'base_date' \n",
    "        new_date = (datetime.timedelta(diff)) + base_date\n",
    "   \n",
    "\n",
    "    #new_date = (datetime.timedelta(diff+1)) + base_date\n",
    "    #print(new_date)\n",
    "    #return (new_date)\n",
    "\n",
    "    ###########################\n",
    "    ###     date + time     ###\n",
    "    ### yyyy/mm/dd hh:mm:ss ###\n",
    "    ###########################\n",
    "\n",
    "    date = new_date\n",
    "    time = str(a)\n",
    "\n",
    "    output_gregorian_date = (str(date) +' '+ time)\n",
    "    \n",
    "    #print (output_gregorian_date)\n",
    "    return output_gregorian_date"
   ]
  },
  {
   "cell_type": "markdown",
   "metadata": {},
   "source": [
    "### Assign the path of the variable 'dates_to_convert' \n",
    "#### *NB: In this code the file containing the AJD dates to be converted must be an excel (.xlsx) document*"
   ]
  },
  {
   "cell_type": "code",
   "execution_count": null,
   "metadata": {},
   "outputs": [],
   "source": [
    "##### Use the # key to uncomment out the relevant line for your dataset (Excel or csv) #### ???? ####\n",
    "\n",
    "dates_to_convert = pd.read_excel('C://Users//rfindler//AJD_Converter/statistics_for_outlier_pattern.xlsx',usecols=['Date'])\n",
    "\n",
    "# Value/Name assigned to 'usecols' must match the column header for the column containing the AJD dates to be converted"
   ]
  },
  {
   "cell_type": "code",
   "execution_count": null,
   "metadata": {},
   "outputs": [],
   "source": [
    "converted_dates = dates_to_convert.Date.apply(AJD_converter)\n",
    "\n",
    "# Convention:\n",
    "\n",
    "# a = b.c.apply(d)\n",
    "\n",
    "# a = name of output converted variable \n",
    "# b = name of variable to be used\n",
    "# c = name of column within variable, where the data to be used for the fucntion is\n",
    "# d = function to be used"
   ]
  },
  {
   "cell_type": "markdown",
   "metadata": {},
   "source": [
    "### Check the inputs for a,b,c in: \n",
    "### df.insert(a,b,c)\n",
    "\n",
    "#### Where:\n",
    "\n",
    "#### a = Column number for new column (Python uses indexing, so A = 0, B = 1, etc.)\n",
    "\n",
    "#### b = Name for new column\n",
    "\n",
    "#### c = Variable to be input into new column\n",
    "\n",
    "\n",
    "\n",
    "#### *NB: DON'T FORGET TO CLOSE THE EXCEL FILE IF YOU HAVE IT OPEN, AS THIS WILL PRODUCE A PERMISSION ERROR*"
   ]
  },
  {
   "cell_type": "code",
   "execution_count": null,
   "metadata": {},
   "outputs": [],
   "source": [
    "df = pd.read_excel('C://Users//rfindler//AJD_Converter/statistics_for_outlier_pattern.xlsx')\n",
    "df.insert(1,\"Gregorian Dates test 5\",converted_dates)\n",
    "#print(df.head)\n",
    "df.to_excel(r'C://Users//rfindler//AJD_Converter/statistics_for_outlier_pattern.xlsx',index=False)"
   ]
  },
  {
   "cell_type": "markdown",
   "metadata": {},
   "source": [
    "## For reference:\n",
    "Information used for the creation of this code was obtained from:\n",
    "* https://www.aavso.org/sites/default/files/images/jdnumbertable.gif\n",
    "* https://ssd.jpl.nasa.gov/tools/jdc/#/jd\n",
    "* https://forums.techguy.org/threads/julian-day-into-date-and-hh-mm-ss.1002353/\n",
    "\n"
   ]
  },
  {
   "cell_type": "markdown",
   "metadata": {},
   "source": []
  }
 ],
 "metadata": {
  "interpreter": {
   "hash": "5b4ee1eb329a55fec27d04103e3c4ccbc478c64b6d2449328dd81f0cc548c01a"
  },
  "kernelspec": {
   "display_name": "Python 3.9.5 64-bit ('miniconda3': virtualenv)",
   "name": "python3"
  },
  "language_info": {
   "name": "python",
   "version": ""
  },
  "orig_nbformat": 4
 },
 "nbformat": 4,
 "nbformat_minor": 2
}